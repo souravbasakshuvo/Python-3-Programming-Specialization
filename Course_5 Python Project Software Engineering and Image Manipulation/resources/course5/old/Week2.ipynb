{
 "cells": [
  {
   "cell_type": "code",
   "execution_count": 44,
   "id": "bde056d5-43ea-4b7c-b79b-49fec75b1ae3",
   "metadata": {},
   "outputs": [
    {
     "data": {
      "image/png": "[encoded data removed]",
      "text/plain": [
       "<PIL.Image.Image image mode=RGBA size=420x80>"
      ]
     },
     "metadata": {},
     "output_type": "display_data"
    },
    {
     "data": {
      "image/png": "[encoded data removed]",
      "text/plain": [
       "<PIL.Image.Image image mode=RGBA size=420x80>"
      ]
     },
     "metadata": {},
     "output_type": "display_data"
    },
    {
     "data": {
      "image/png": "[encoded data removed]",
      "text/plain": [
       "<PIL.Image.Image image mode=RGBA size=420x80>"
      ]
     },
     "metadata": {},
     "output_type": "display_data"
    },
    {
     "data": {
      "image/png": "[encoded data removed]",
      "text/plain": [
       "<PIL.Image.Image image mode=RGBA size=420x80>"
      ]
     },
     "metadata": {},
     "output_type": "display_data"
    },
    {
     "name": "stdout",
     "output_type": "stream",
     "text": [
      "yes! The word is doggy!\n"
     ]
    }
   ],
   "source": [
    "from PIL import Image, ImageFont, ImageDraw\n",
    "\n",
    "import random\n",
    "from typing import List, Union\n",
    "\n",
    "\n",
    "\n",
    "# GuessLetter class\n",
    "class GuessLetter:\n",
    "    def __init__(self, correct_position: List[bool], in_word: List[bool]) -> None:\n",
    "        self.correct_position = correct_position\n",
    "        self.in_word = in_word\n",
    "        \n",
    "    def is_correct_position(self, index: int) -> bool:\n",
    "        return self.correct_position[index]\n",
    "    \n",
    "    def is_in_word(self, index: int) -> bool:\n",
    "        return self.in_word[index]\n",
    "    \n",
    "    def is_correct_guess(self) -> bool:\n",
    "        return all(self.correct_position)\n",
    "    \n",
    "    def __repr__(self) -> str:\n",
    "        return f\"GuessLetter({self.correct_position}, {self.in_word})\"\n",
    "    \n",
    "    # def __str__(self) -> str:\n",
    "    #     return f\"Correct position: {self.correct_position}, In word: {self.in_word}\"\n",
    "   \n",
    " \n",
    " \n",
    " # Guess class  \n",
    "class Guess:\n",
    "    def __init__(self, word: str) -> None:\n",
    "        self.word = word.upper()\n",
    "        self.guesses: List[GuessLetter] = []\n",
    "        \n",
    "    def get_word(self) -> str:\n",
    "        return self.word\n",
    "    \n",
    "    def get_guesses(self) -> List[GuessLetter]:\n",
    "        return self.guesses\n",
    "    \n",
    "    def add_guess(self, guess: GuessLetter) -> None:\n",
    "        self.guesses.append(guess)\n",
    "    \n",
    "    \n",
    "    \n",
    "\n",
    "\n",
    "\n",
    "# GameMaster class\n",
    "class GameMaster:\n",
    "    def __init__(self, target_word: str) -> None:\n",
    "        self.target_word = target_word.upper()\n",
    "        \n",
    "    def make_guess(self, guess: Guess) -> GuessLetter:\n",
    "        target_word = self.target_word\n",
    "        guess = guess.get_word()\n",
    "        \n",
    "        # check if letter matches\n",
    "        right_place = [guess[i] == target_word[i] for i in range(len(guess))]\n",
    "        in_word = [guess[i] in target_word for i in range(len(guess))]\n",
    "        \n",
    "        return GuessLetter(right_place, in_word)\n",
    "    \n",
    "    def make_visual_guess(self, guess:Guess) -> Image:\n",
    "        def render_word(guess: str, correct_word: str):\n",
    "            letters=[]\n",
    "            for loc, letter in enumerate(guess):\n",
    "                if correct_word[loc]==letter:\n",
    "                    letters.append(render_letter(letter, in_word=True, correct_place=True))\n",
    "                elif letter in correct_word:\n",
    "                    letters.append(render_letter(letter, in_word=True))\n",
    "                else:\n",
    "                    letters.append(render_letter(letter))\n",
    "\n",
    "\n",
    "            space_between_letters=5\n",
    "            word_width=(len(letters)*letters[0].width)+(len(letters)-1)*space_between_letters\n",
    "            word_height=letters[0].height\n",
    "\n",
    "            wrd=Image.new('RGBA', (word_width,word_height), color=\"white\")\n",
    "            curr_loc=0\n",
    "            for char in letters:\n",
    "                wrd.paste(char,(curr_loc,0))\n",
    "                curr_loc+=char.width+space_between_letters\n",
    "            return wrd\n",
    "\n",
    "\n",
    "        def render_letter(letter:str, in_word:bool=False, correct_place:bool=False)->Image:\n",
    "            block_width=80\n",
    "            block_height=80\n",
    "            x=block_width//2\n",
    "            y=block_height//2\n",
    "\n",
    "            color:str=\"darkgrey\"\n",
    "            if correct_place:\n",
    "                color=\"green\"\n",
    "            elif in_word:\n",
    "                color=\"yellow\"\n",
    "\n",
    "            blk=Image.new('RGBA', (block_width,block_height), color=color)\n",
    "\n",
    "            draw = ImageDraw.Draw(blk)\n",
    "\n",
    "            # use a bitmap font\n",
    "            font_size=50\n",
    "            font = ImageFont.truetype(\"assets/roboto_font/Roboto-Bold.ttf\", font_size)\n",
    "\n",
    "            # see https://pillow.readthedocs.io/en/stable/handbook/text-anchors.html#text-anchors\n",
    "            draw.text((x, y), letter, size=50, anchor=\"mm\",  font=font)\n",
    "            return blk\n",
    "        \n",
    "        return render_word(guess.get_word(), self.target_word)\n",
    "\n",
    "# Bot class   \n",
    "class Bot:\n",
    "    def play(self, num_max_guesses: int, word_list: List[str], game_master: GameMaster) -> None:\n",
    "        max_guesses = num_max_guesses\n",
    "        guess_count = 0\n",
    "        guesses: List[str] = []\n",
    "        \n",
    "        while guess_count < max_guesses:\n",
    "            guess=word_list.pop(random.randrange(len(word_list)))\n",
    "            guesses.append(guess)\n",
    "            guess_count += 1\n",
    "            guess_letter_list = game_master.make_guess(Guess(guess))\n",
    "            display(game_master.make_visual_guess(Guess(guess)))\n",
    "            #print(self._format_guess_feedback(guess, guess_letter_list))\n",
    "            if guess_letter_list.is_correct_guess():\n",
    "                print(f\"yes! The word is {guess}!\")\n",
    "                return\n",
    "        print(f\"you ran out of guesses. The word was {game_master.target_word}.\")\n",
    "\n",
    "\n",
    "    def _create_guess(self, word_list: List[str]) -> str:\n",
    "        return random.choice(word_list)\n",
    "\n",
    "    def _format_guess_feedback(self, guess: str, guess_letter_list) -> str:\n",
    "        feedback_str = f\"{guess}: \"\n",
    "        for i in range(len(guess)):\n",
    "            if guess_letter_list.is_correct_position(i):\n",
    "                feedback_str += guess[i] + \" \"\n",
    "            elif guess_letter_list.is_in_word(i):\n",
    "                feedback_str += guess[i].lower() + \" \"\n",
    "            else:\n",
    "                feedback_str += \"_ \"\n",
    "        return feedback_str\n",
    "\n",
    "    \n",
    "\n",
    "mybot=Bot()\n",
    "mybot.play(5, [\"doggy\", \"mommy\", \"daddy\", \"spank\", \"quiet\", \"lived\", \"salad\"], GameMaster(\"doggy\"))\n"
   ]
  },
  {
   "cell_type": "code",
   "execution_count": 13,
   "id": "e3e7ba5a-fafb-4b83-80c4-d2c4426e3952",
   "metadata": {},
   "outputs": [
    {
     "data": {
      "text/plain": [
       "(169, 169, 169, 255)"
      ]
     },
     "execution_count": 13,
     "metadata": {},
     "output_type": "execute_result"
    }
   ],
   "source": [
    "# This is where pixels can be taught\n",
    "render_word(\"DOGGY\").load()[0,0]"
   ]
  }
 ],
 "metadata": {
  "kernelspec": {
   "display_name": "python3.8experimental",
   "language": "python",
   "name": "python3.8experimental"
  },
  "language_info": {
   "codemirror_mode": {
    "name": "ipython",
    "version": 3
   },
   "file_extension": ".py",
   "mimetype": "text/x-python",
   "name": "python",
   "nbconvert_exporter": "python",
   "pygments_lexer": "ipython3",
   "version": "3.8.12"
  }
 },
 "nbformat": 4,
 "nbformat_minor": 5
}
