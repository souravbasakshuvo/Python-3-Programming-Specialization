{
 "cells": [
  {
   "cell_type": "code",
   "execution_count": null,
   "id": "1446b898",
   "metadata": {},
   "outputs": [],
   "source": [
    "# improvements and tradeoffs\n",
    "# regex\n",
    "# multiple cleaning on a single line\n",
    "# using a set to reduce size\n",
    "# not reading in the whole file but moving through it line by line.\n",
    "# printing, debuging, setting breakpoints\n",
    "\n",
    "import string\n",
    "\n",
    "word_list=[]\n",
    "file = open(\"pg29765.txt\", \"r\")\n",
    "prev_line=None\n",
    "for line in file:\n",
    "    if prev_line == \"\\n\" and len(line)==6:\n",
    "        err=False\n",
    "        for char in line:\n",
    "            if char not in string.ascii_uppercase+\"\\n\":\n",
    "                err=True\n",
    "        if not err:\n",
    "            word_list.append(line.strip())\n",
    "    prev_line=line"
   ]
  }
 ],
 "metadata": {
  "kernelspec": {
   "display_name": "Python 3 (ipykernel)",
   "language": "python",
   "name": "python3"
  },
  "language_info": {
   "codemirror_mode": {
    "name": "ipython",
    "version": 3
   },
   "file_extension": ".py",
   "mimetype": "text/x-python",
   "name": "python",
   "nbconvert_exporter": "python",
   "pygments_lexer": "ipython3",
   "version": "3.9.13"
  }
 },
 "nbformat": 4,
 "nbformat_minor": 5
}
