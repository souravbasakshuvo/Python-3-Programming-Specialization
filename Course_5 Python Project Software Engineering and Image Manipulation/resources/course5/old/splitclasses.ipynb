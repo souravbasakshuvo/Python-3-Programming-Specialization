{
 "cells": [
  {
   "cell_type": "code",
   "execution_count": 9,
   "metadata": {},
   "outputs": [],
   "source": [
    "import random\n",
    "from typing import List, Union\n",
    "\n",
    "\n",
    "\n",
    "# GuessLetter class\n",
    "class GuessLetter:\n",
    "    def __init__(self, correct_position: List[bool], in_word: List[bool]) -> None:\n",
    "        self.correct_position = correct_position\n",
    "        self.in_word = in_word\n",
    "        \n",
    "    def is_correct_position(self, index: int) -> bool:\n",
    "        return self.correct_position[index]\n",
    "    \n",
    "    def is_in_word(self, index: int) -> bool:\n",
    "        return self.in_word[index]\n",
    "    \n",
    "    def is_correct_guess(self) -> bool:\n",
    "        return all(self.correct_position)\n",
    "    \n",
    "    def __repr__(self) -> str:\n",
    "        return f\"GuessLetter({self.correct_position}, {self.in_word})\"\n",
    "    \n",
    "    # def __str__(self) -> str:\n",
    "    #     return f\"Correct position: {self.correct_position}, In word: {self.in_word}\"\n",
    "   \n",
    " \n",
    " \n",
    " # Guess class  \n",
    "class Guess:\n",
    "    def __init__(self, word: str) -> None:\n",
    "        self.word = word.upper()\n",
    "        self.guesses: List[GuessLetter] = []\n",
    "        \n",
    "    def get_word(self) -> str:\n",
    "        return self.word\n",
    "    \n",
    "    def get_guesses(self) -> List[GuessLetter]:\n",
    "        return self.guesses\n",
    "    \n",
    "    def add_guess(self, guess: GuessLetter) -> None:\n",
    "        self.guesses.append(guess)\n",
    "        \n",
    "\n",
    "\n",
    "# GameMaster class\n",
    "class GameMaster:\n",
    "    def __init__(self, target_word: str) -> None:\n",
    "        self.target_word = target_word.upper()\n",
    "        \n",
    "    def make_guess(self, guess: Guess) -> GuessLetter:\n",
    "        target_word = self.target_word\n",
    "        guess = guess.get_word()\n",
    "        \n",
    "        # check if letter matches\n",
    "        right_place = [guess[i] == target_word[i] for i in range(len(guess))]\n",
    "        in_word = [guess[i] in target_word for i in range(len(guess))]\n",
    "        \n",
    "        return GuessLetter(right_place, in_word)\n",
    "    \n",
    "    \n",
    "    \n",
    "# Bot class   \n",
    "class Bot:\n",
    "    def play(self, num_max_guesses: int, word_list: List[str], game_master: GameMaster) -> None:\n",
    "        max_guesses = num_max_guesses\n",
    "        guess_count = 0\n",
    "        guesses: List[str] = []\n",
    "        \n",
    "        while guess_count < max_guesses:\n",
    "            guess = self._create_guess(word_list)\n",
    "            guesses.append(guess)\n",
    "            guess_count += 1\n",
    "            guess_letter_list = game_master.make_guess(Guess(guess))\n",
    "            print(self._format_guess_feedback(guess, guess_letter_list))\n",
    "            if guess_letter_list.is_correct_guess():\n",
    "                print(f\"yes! The word is {guess}!\")\n",
    "                return\n",
    "        print(f\"you ran out of guesses. The word was {game_master.target_word}.\")\n",
    "\n",
    "\n",
    "    def _create_guess(self, word_list: List[str]) -> str:\n",
    "        return random.choice(word_list)\n",
    "\n",
    "    def _format_guess_feedback(self, guess: str, guess_letter_list) -> str:\n",
    "        feedback_str = f\"{guess}: \"\n",
    "        for i in range(len(guess)):\n",
    "            if guess_letter_list.is_correct_position(i):\n",
    "                feedback_str += guess[i] + \" \"\n",
    "            elif guess_letter_list.is_in_word(i):\n",
    "                feedback_str += guess[i].lower() + \" \"\n",
    "            else:\n",
    "                feedback_str += \"_ \"\n",
    "        return feedback_str "
   ]
  },
  {
   "cell_type": "code",
   "execution_count": 11,
   "metadata": {},
   "outputs": [
    {
     "name": "stdout",
     "output_type": "stream",
     "text": [
      "daddy: d _ d d y \n",
      "mommy: _ o _ _ y \n",
      "doggy: d o g g y \n",
      "yes! The word is doggy!\n"
     ]
    }
   ],
   "source": [
    "mybot=Bot()\n",
    "mybot.play(5, [\"doggy\", \"mommy\", \"daddy\"], GameMaster(\"doggy\"))\n"
   ]
  },
  {
   "cell_type": "code",
   "execution_count": 16,
   "metadata": {},
   "outputs": [
    {
     "data": {
      "text/plain": [
       "method"
      ]
     },
     "execution_count": 16,
     "metadata": {},
     "output_type": "execute_result"
    }
   ],
   "source": [
    "class Bot:\n",
    "    def play(self):\n",
    "        return \"god\"\n",
    "\n",
    "type(Bot().play)"
   ]
  },
  {
   "cell_type": "code",
   "execution_count": 19,
   "metadata": {},
   "outputs": [
    {
     "ename": "AttributeError",
     "evalue": "type object 'Bot' has no attribute 'lay'",
     "output_type": "error",
     "traceback": [
      "\u001b[0;31m---------------------------------------------------------------------------\u001b[0m",
      "\u001b[0;31mAttributeError\u001b[0m                            Traceback (most recent call last)",
      "Input \u001b[0;32mIn [19]\u001b[0m, in \u001b[0;36m<cell line: 6>\u001b[0;34m()\u001b[0m\n\u001b[1;32m      4\u001b[0m \u001b[38;5;28;01massert\u001b[39;00m inspect\u001b[38;5;241m.\u001b[39misclass(Bot), \u001b[38;5;124m\"\u001b[39m\u001b[38;5;124mThe Bot class could not be found, did you define it?\u001b[39m\u001b[38;5;124m\"\u001b[39m\n\u001b[1;32m      5\u001b[0m \u001b[38;5;66;03m# test whether the Bot class has the play function\u001b[39;00m\n\u001b[0;32m----> 6\u001b[0m \u001b[38;5;28;01massert\u001b[39;00m inspect\u001b[38;5;241m.\u001b[39misfunction(\u001b[43mBot\u001b[49m\u001b[38;5;241;43m.\u001b[39;49m\u001b[43mlay\u001b[49m), \u001b[38;5;124m\"\u001b[39m\u001b[38;5;124mThe play function of the Bot class could not be found, did you define it?\u001b[39m\u001b[38;5;124m\"\u001b[39m\n",
      "\u001b[0;31mAttributeError\u001b[0m: type object 'Bot' has no attribute 'lay'"
     ]
    }
   ],
   "source": [
    "import inspect\n",
    "\n",
    "# test whether the Bot class exists\n",
    "assert inspect.isclass(Bot), \"The Bot class could not be found, did you define it?\"\n",
    "# test whether the Bot class has the play function\n",
    "assert inspect.isfunction(Bot.play), \"The play function of the Bot class could not be found, did you define it?\"\n"
   ]
  }
 ],
 "metadata": {
  "kernelspec": {
   "display_name": "Python 3 (ipykernel)",
   "language": "python",
   "name": "python3"
  },
  "language_info": {
   "codemirror_mode": {
    "name": "ipython",
    "version": 3
   },
   "file_extension": ".py",
   "mimetype": "text/x-python",
   "name": "python",
   "nbconvert_exporter": "python",
   "pygments_lexer": "ipython3",
   "version": "3.8.11"
  },
  "vscode": {
   "interpreter": {
    "hash": "aee8b7b246df8f9039afb4144a1f6fd8d2ca17a180786b69acc140d282b71a49"
   }
  }
 },
 "nbformat": 4,
 "nbformat_minor": 4
}
