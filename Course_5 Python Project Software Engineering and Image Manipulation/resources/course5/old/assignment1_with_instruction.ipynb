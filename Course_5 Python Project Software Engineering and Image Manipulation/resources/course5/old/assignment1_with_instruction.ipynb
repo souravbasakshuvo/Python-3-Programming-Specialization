{
 "cells": [
  {
   "cell_type": "markdown",
   "metadata": {},
   "source": [
    "# Week 1 Assignment: WordyPy Game\n",
    "In this assignment, you'll be crafting a WordyPy game. Make sure to follow the instructions and complete each section as outlined. You'll be analyzing Wordle game screenshots using the Python Imaging Library (PIL) as part of this task. With PIL, you'll pinpoint the feedback squares' locations on the game board and determine the correctly guessed letters and the remaining unknowns in the word being guessed. The player will get real-time feedback on the game's progress based on this data. Don't forget to implement error handling for cases where the screenshot doesn't adhere to the expected format or the game board isn't visible. Good luck and have fun! \n",
    "\n",
    "## Section 1: Import Libraries\n",
    "First, we need to import the necessary libraries."
   ]
  },
  {
   "cell_type": "code",
   "execution_count": 6,
   "metadata": {},
   "outputs": [],
   "source": [
    "from PIL import Image, ImageFont, ImageDraw, ImageOps, ImageFilter\n",
    "import pytesseract\n",
    "import matplotlib.pyplot as plt\n",
    "import random\n",
    "from typing import List, Union "
   ]
  },
  {
   "cell_type": "markdown",
   "metadata": {},
   "source": [
    "## Section 2: Create GuessLetter Class\n",
    "In this section, you will create a class called GuessLetter. This class will store information about the correctness of the player's guesses for each letter in a word. The class will have four methods, each with a specific purpose.\n",
    "\n",
    "1)  __init__: This is the constructor method for the GuessLetter class. It takes two parameters:\n",
    "correct_position: A list of boolean values representing if the guessed letter is in the correct position within the word.\n",
    "in_word: A list of boolean values representing if the guessed letter is present in the word, regardless of its position.\n",
    "The method initializes two instance variables, self.correct_position and self.in_word, with the respective input parameter values. (Need a quick refresher on type hinting? No worries, have a look here! 🤓)\n",
    "\n",
    "2) __is_correct_position__: This method takes an integer index as its input parameter and returns the boolean value stored in self.correct_position at the given index. This indicates whether the guessed letter at the specified index is in the correct position within the word. \n",
    "\n",
    "3) __is_in_word__: This method takes an integer index as its input parameter and returns the boolean value stored in self.in_word at the given index. This indicates whether the guessed letter at the specified index is present in the word, regardless of its position.\n",
    "\n",
    "4) __is_correct_guess__: This method returns a boolean value indicating whether all the guessed letters are in their correct positions. It does this by checking if all the boolean values in self.correct_position are True.\n",
    "\n",
    "5) __repr__: This method returns a string representation of the GuessLetter object, which is useful for debugging purposes. It displays the self.correct_position and self.in_word attributes in a human-readable format. (Feeling rusty on __repr__? No sweat! Take a quick trip down memory lane to revisit how it creates a readable string for debugging our GuessLetter object! 😎)\n"
   ]
  },
  {
   "cell_type": "code",
   "execution_count": 3,
   "metadata": {},
   "outputs": [],
   "source": [
    "class GuessLetter:\n",
    "    def __init__(self, correct_position: List[bool], in_word: List[bool]) -> None:\n",
    "        self.correct_position = correct_position\n",
    "        self.in_word = in_word\n",
    "        \n",
    "    def is_correct_position(self, index: int) -> bool:\n",
    "        return self.correct_position[index]\n",
    "    \n",
    "    def is_in_word(self, index: int) -> bool:\n",
    "        return self.in_word[index]\n",
    "    \n",
    "    def is_correct_guess(self) -> bool:\n",
    "        return all(self.correct_position)\n",
    "    \n",
    "    def __repr__(self) -> str:\n",
    "        return f\"GuessLetter({self.correct_position}, {self.in_word})\"\n"
   ]
  },
  {
   "cell_type": "markdown",
   "metadata": {},
   "source": [
    "## Section 3: Create Guess Class\n",
    "In this section, you'll create the Guess class. This class will handle information about each word guessed by the player. Below is a brief explanation of the class methods :\n",
    "\n",
    "1) __init__: Constructor for the Guess class. Takes one parameter, word. Don't forget that str stands for \"string\"!\n",
    "    Initializes self.word as the uppercase version of the input word.\n",
    "    Initializes self.guesses as an empty list of GuessLetter objects.\n",
    "\n",
    "2) __get_word__: Returns the guessed word stored in self.word. Need a quick refresher on getter methods? Check out this link! :D\n",
    "\n",
    "3) __get_guesses__: Returns the list of GuessLetter objects stored in self.guesses. Remember, the List type hint is from the typing module!\n",
    "\n",
    "4) __add_guess__: Adds a GuessLetter object to self.guesses. Don't forget how the append method works for lists! 🚀\n"
   ]
  },
  {
   "cell_type": "code",
   "execution_count": 4,
   "metadata": {},
   "outputs": [],
   "source": [
    "class Guess:\n",
    "    def __init__(self, word: str) -> None:\n",
    "        self.word = word.upper()\n",
    "        self.guesses: List[GuessLetter] = []\n",
    "        \n",
    "    def get_word(self) -> str:\n",
    "        return self.word\n",
    "    \n",
    "    def get_guesses(self) -> List[GuessLetter]:\n",
    "        return self.guesses\n",
    "    \n",
    "    def add_guess(self, guess: GuessLetter) -> None:\n",
    "        self.guesses.append(guess)\n"
   ]
  },
  {
   "cell_type": "markdown",
   "metadata": {},
   "source": [
    "## Section 4: Create GameMaster Class\n",
    "In this section, you'll create the GameMaster class. This class will manage the game and provide feedback on the player's guesses. Here are the explanations of the class methods:\n",
    "\n",
    "1) __init__: Constructor for the GameMaster class. Takes one parameter, target_word.\n",
    "\n",
    "2) __make_guess__: Takes a Guess object and returns a GuessLetter object with feedback on the player's guess.\n",
    "        Retrieves the guessed word using guess.get_word(). Don't forget how getter methods work!\n",
    "        Creates two lists, right_place and in_word, using list comprehensions. Need a refresher on list comprehensions? Check out this link!\n",
    "        Returns a GuessLetter object with the constructed feedback.\n",
    "\n",
    "3) __make_visual_guess__: Takes a Guess object and returns an Image object with a visual representation of the player's guess.\n",
    "        Defines a helper function render_word that takes the guessed word and the correct word as input parameters. It then creates an image of the guessed word with color-coded letters based on correctness.\n",
    "        Inside render_word, a loop enumerates through the guessed word to create and append image representations of each letter using another helper function, render_letter.\n",
    "        The render_letter function takes the letter and two optional boolean parameters, in_word and correct_place, and returns an Image object of the letter with the appropriate background color.\n",
    "        The make_visual_guess function finally assembles the image representations of the letters into a single image and returns it.\n",
    "\n",
    "Now, Good luck and enjoy! 🌟"
   ]
  },
  {
   "cell_type": "code",
   "execution_count": 5,
   "metadata": {},
   "outputs": [],
   "source": [
    "class GameEngine:\n",
    "    def __init__(self, target_word: str) -> None:\n",
    "        self.target_word = target_word.upper()\n",
    "        \n",
    "    # suggestion: change the method name to guess_feedback   \n",
    "    def make_guess(self, guess: Guess) -> GuessLetter:\n",
    "        target_word = self.target_word\n",
    "        guess = guess.get_word()\n",
    "        \n",
    "        right_place = [guess[i] == target_word[i] for i in range(len(guess))]\n",
    "        in_word = [guess[i] in target_word for i in range(len(guess))]\n",
    "        \n",
    "        return GuessLetter(right_place, in_word)\n",
    "    \n",
    "    # suggestion: change the method name to create_visual_feedback\n",
    "    def make_visual_guess(self, guess:Guess) -> Image:\n",
    "        def render_word(guess: str, correct_word: str):\n",
    "            letters=[]\n",
    "            for loc, letter in enumerate(guess):\n",
    "                if correct_word[loc]==letter:\n",
    "                    letters.append(render_letter(letter, in_word=True, correct_place=True))\n",
    "                elif letter in correct_word:\n",
    "                    letters.append(render_letter(letter, in_word=True))\n",
    "                else:\n",
    "                    letters.append(render_letter(letter))\n",
    "\n",
    "            space_between_letters=5\n",
    "            word_width=(len(letters)*letters[0].width)+(len(letters)-1)*space_between_letters\n",
    "            word_height=letters[0].height\n",
    "\n",
    "            wrd=Image.new('RGBA', (word_width,word_height), color=\"white\")\n",
    "            curr_loc=0\n",
    "            for char in letters:\n",
    "                wrd.paste(char,(curr_loc,0))\n",
    "                curr_loc+=char.width+space_between\n"
   ]
  },
  {
   "cell_type": "code",
   "execution_count": null,
   "metadata": {},
   "outputs": [],
   "source": []
  }
 ],
 "metadata": {
  "kernelspec": {
   "display_name": "Python 3 (ipykernel)",
   "language": "python",
   "name": "python3"
  },
  "language_info": {
   "codemirror_mode": {
    "name": "ipython",
    "version": 3
   },
   "file_extension": ".py",
   "mimetype": "text/x-python",
   "name": "python",
   "nbconvert_exporter": "python",
   "pygments_lexer": "ipython3",
   "version": "3.9.13"
  },
  "vscode": {
   "interpreter": {
    "hash": "e42e32cf910e3ef8621fd44f66925230a95020be1defc7567e14c59ff2dff1ed"
   }
  }
 },
 "nbformat": 4,
 "nbformat_minor": 2
}
